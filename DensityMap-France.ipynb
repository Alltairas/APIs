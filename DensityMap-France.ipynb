{
 "cells": [
  {
   "cell_type": "markdown",
   "id": "53b62b27",
   "metadata": {},
   "source": [
    "## DensityMap-France"
   ]
  },
  {
   "cell_type": "code",
   "execution_count": 2,
   "id": "7faf6db3",
   "metadata": {},
   "outputs": [],
   "source": [
    "import json\n",
    "import numpy as np\n",
    "import pandas as pd\n",
    "import plotly.express as px"
   ]
  },
  {
   "cell_type": "code",
   "execution_count": 3,
   "id": "920e8daa",
   "metadata": {},
   "outputs": [],
   "source": [
    "import plotly.io as pio\n",
    "pio.renderers.default = 'browser'"
   ]
  },
  {
   "cell_type": "code",
   "execution_count": 4,
   "id": "08e23465",
   "metadata": {},
   "outputs": [],
   "source": [
    "french_regions = json.load(open(\"France_deps.geojson\", \"r\"))"
   ]
  },
  {
   "cell_type": "code",
   "execution_count": 5,
   "id": "860c7611",
   "metadata": {},
   "outputs": [],
   "source": [
    "deps_id_map = {}\n",
    "for feature in french_regions[\"features\"]:\n",
    "    feature[\"id\"] = feature[\"properties\"][\"code\"]\n",
    "    deps_id_map[feature[\"properties\"][\"nom\"]] = feature[\"id\"]"
   ]
  },
  {
   "cell_type": "code",
   "execution_count": 6,
   "id": "07e97c39",
   "metadata": {},
   "outputs": [],
   "source": [
    "# Step 1: Read the CSV file with the appropriate encoding\n",
    "df = pd.read_csv(\"departements-francais.csv\", encoding='ISO-8859-1', header=0)\n",
    "\n",
    "# Step 2: Rename columns for clarity\n",
    "df.columns = ['NOM', 'NUMÉRO', 'REGION', 'CHEF_LIEU', 'SUPERFICIE', 'POPULATION', 'DENSITE']"
   ]
  },
  {
   "cell_type": "code",
   "execution_count": 7,
   "id": "382ba4da",
   "metadata": {},
   "outputs": [],
   "source": [
    "# Step 4: Create a relevant DataFrame\n",
    "df_relevant = df[['NUMÉRO', 'NOM', 'REGION', 'POPULATION', 'DENSITE']]"
   ]
  },
  {
   "cell_type": "code",
   "execution_count": 8,
   "id": "54606f59",
   "metadata": {},
   "outputs": [],
   "source": [
    "# Step 6: Create the choropleth map\n",
    "fig = px.choropleth(\n",
    "    df_relevant,\n",
    "    locations='NUMÉRO',  # Use the department number for locations\n",
    "    geojson=french_regions,\n",
    "    color='DENSITE',  # Use the calculated Density\n",
    "    hover_name='NOM',  # Display department names on hover\n",
    "    hover_data=['POPULATION', 'DENSITE'],  # Include Population and Density in hover data\n",
    "    title=\"Population Density by Département in France\",\n",
    ")\n",
    "# Step 7: Update map settings and show\n",
    "fig.update_geos(fitbounds=\"locations\", visible=False)\n",
    "fig.show()"
   ]
  },
  {
   "cell_type": "code",
   "execution_count": null,
   "id": "a7884291",
   "metadata": {},
   "outputs": [],
   "source": []
  }
 ],
 "metadata": {
  "kernelspec": {
   "display_name": "Python 3 (ipykernel)",
   "language": "python",
   "name": "python3"
  },
  "language_info": {
   "codemirror_mode": {
    "name": "ipython",
    "version": 3
   },
   "file_extension": ".py",
   "mimetype": "text/x-python",
   "name": "python",
   "nbconvert_exporter": "python",
   "pygments_lexer": "ipython3",
   "version": "3.9.13"
  }
 },
 "nbformat": 4,
 "nbformat_minor": 5
}
